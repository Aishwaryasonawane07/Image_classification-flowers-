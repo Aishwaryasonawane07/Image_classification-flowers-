{
 "cells": [
  {
   "cell_type": "code",
   "execution_count": 1,
   "id": "f4c9edb4-1ad9-4aa0-bb6f-36b1886e5cbb",
   "metadata": {},
   "outputs": [
    {
     "name": "stderr",
     "output_type": "stream",
     "text": [
      "WARNING:absl:Compiled the loaded model, but the compiled metrics have yet to be built. `model.compile_metrics` will be empty until you train or evaluate the model.\n"
     ]
    }
   ],
   "source": [
    "from keras.models import load_model\n",
    "import numpy as np\n",
    "class_names = ['daisy', 'dandelion', 'roses', 'sunflowers', 'tulips']\n",
    "\n",
    "loaded_model_2 = load_model(\"inception_2.h5\")"
   ]
  },
  {
   "cell_type": "code",
   "execution_count": 2,
   "id": "506bf579-b341-4ea0-a3b2-469642746352",
   "metadata": {},
   "outputs": [],
   "source": [
    "from tensorflow.keras.preprocessing import image as keras_image\n",
    "def preprocess(img_path):\n",
    "    img = keras_image.load_img(img_path, target_size=(180, 180))\n",
    "    img_array = keras_image.img_to_array(img)\n",
    "    img_array = np.expand_dims(img_array, axis=0)\n",
    "   \n",
    "    return img_array\n",
    " \n",
    "def predict_image(img_path):\n",
    "    processed_image = preprocess(img_path)\n",
    "    prediction = loaded_model_2.predict(processed_image)\n",
    "   \n",
    "    label = class_names[np.argmax(prediction)]\n",
    "    confidence = np.max(prediction)\n",
    "    print( f'Prediction: {label} ({confidence:.2f})')\n",
    "    return label"
   ]
  },
  {
   "cell_type": "code",
   "execution_count": 3,
   "id": "2e3f6033-aa80-4294-9934-f87193f6b286",
   "metadata": {},
   "outputs": [
    {
     "name": "stdout",
     "output_type": "stream",
     "text": [
      "\u001b[1m1/1\u001b[0m \u001b[32m━━━━━━━━━━━━━━━━━━━━\u001b[0m\u001b[37m\u001b[0m \u001b[1m2s\u001b[0m 2s/step\n",
      "Prediction: sunflowers (1.00)\n",
      "sunflowers\n"
     ]
    }
   ],
   "source": [
    "img_path = r\"C:\\Users\\aishwarya.sonawane\\Desktop\\Image Classification\\flower_photos\\sunflowers\\147804446_ef9244c8ce_m.jpg\"\n",
    "print(predict_image(img_path))"
   ]
  },
  {
   "cell_type": "code",
   "execution_count": null,
   "id": "41ba8570-449a-46dd-96de-2eb26639cad0",
   "metadata": {},
   "outputs": [],
   "source": []
  },
  {
   "cell_type": "code",
   "execution_count": null,
   "id": "93049fa5-6e82-4dc2-bbcf-48890908acc0",
   "metadata": {},
   "outputs": [],
   "source": []
  }
 ],
 "metadata": {
  "kernelspec": {
   "display_name": "Python 3 (ipykernel)",
   "language": "python",
   "name": "python3"
  },
  "language_info": {
   "codemirror_mode": {
    "name": "ipython",
    "version": 3
   },
   "file_extension": ".py",
   "mimetype": "text/x-python",
   "name": "python",
   "nbconvert_exporter": "python",
   "pygments_lexer": "ipython3",
   "version": "3.12.4"
  }
 },
 "nbformat": 4,
 "nbformat_minor": 5
}
