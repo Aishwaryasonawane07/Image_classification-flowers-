{
 "cells": [
  {
   "cell_type": "code",
   "execution_count": null,
   "id": "03655504-df1a-452c-a16f-cb7a81525f36",
   "metadata": {},
   "outputs": [],
   "source": [
    "import os\n",
    "import shutil\n",
    "import random\n",
    "\n",
    "# Define the source and target directories\n",
    "source_dir = r\"C:\\Users\\aishwarya.sonawane\\Desktop\\Nature data\"\n",
    "target_dirs = [\"train\", \"test\", \"predict\"]\n",
    "\n",
    "# Define the class folders\n",
    "classes = [\"buildings\", \"forest\", \"street\", \"sea\", \"mountain\", \"glacier\"]\n",
    "\n",
    "# Create the target directories\n",
    "for target_dir in target_dirs:\n",
    "    os.makedirs(os.path.join(source_dir, target_dir), exist_ok=True)\n",
    "    if target_dir != \"predict\":\n",
    "        for cls in classes:\n",
    "            os.makedirs(os.path.join(source_dir, target_dir, cls), exist_ok=True)\n",
    "\n",
    "# Function to move files\n",
    "def move_files(src, dst, split_ratio=0.8):\n",
    "    files = os.listdir(src)\n",
    "    random.shuffle(files)\n",
    "    split_point = int(len(files) * split_ratio)\n",
    "    train_files = files[:split_point]\n",
    "    test_files = files[split_point:]\n",
    "\n",
    "    for f in train_files:\n",
    "        shutil.move(os.path.join(src, f), os.path.join(dst, \"train\", os.path.basename(src), f))\n",
    "    for f in test_files:\n",
    "        shutil.move(os.path.join(src, f), os.path.join(dst, \"test\", os.path.basename(src), f))\n",
    "\n",
    "# Move the files\n",
    "for cls in classes:\n",
    "    class_dir = os.path.join(source_dir, cls)\n",
    "    move_files(class_dir, source_dir)\n",
    "\n",
    "# Remove empty class folders from the source directory\n",
    "for cls in classes:\n",
    "    os.rmdir(os.path.join(source_dir, cls))\n",
    "\n",
    "print(\"Data reorganization complete.\")\n"
   ]
  }
 ],
 "metadata": {
  "kernelspec": {
   "display_name": "Python 3 (ipykernel)",
   "language": "python",
   "name": "python3"
  },
  "language_info": {
   "codemirror_mode": {
    "name": "ipython",
    "version": 3
   },
   "file_extension": ".py",
   "mimetype": "text/x-python",
   "name": "python",
   "nbconvert_exporter": "python",
   "pygments_lexer": "ipython3",
   "version": "3.11.9"
  }
 },
 "nbformat": 4,
 "nbformat_minor": 5
}
